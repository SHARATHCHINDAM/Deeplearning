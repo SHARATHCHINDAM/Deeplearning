{
  "nbformat": 4,
  "nbformat_minor": 0,
  "metadata": {
    "colab": {
      "name": "perceptron.ipynb",
      "provenance": [],
      "toc_visible": true,
      "authorship_tag": "ABX9TyMwf1rEW4fywLE1DXGfcHUR",
      "include_colab_link": true
    },
    "kernelspec": {
      "name": "python3",
      "display_name": "Python 3"
    },
    "language_info": {
      "name": "python"
    }
  },
  "cells": [
    {
      "cell_type": "markdown",
      "metadata": {
        "id": "view-in-github",
        "colab_type": "text"
      },
      "source": [
        "<a href=\"https://colab.research.google.com/github/SHARATHCHINDAM/Deeplearning/blob/main/perceptron.ipynb\" target=\"_parent\"><img src=\"https://colab.research.google.com/assets/colab-badge.svg\" alt=\"Open In Colab\"/></a>"
      ]
    },
    {
      "cell_type": "markdown",
      "metadata": {
        "id": "qSQsfzDo6l-x"
      },
      "source": [
        "Perceptron"
      ]
    },
    {
      "cell_type": "markdown",
      "metadata": {
        "id": "lndYo3P66tPA"
      },
      "source": [
        "importing libraries\n"
      ]
    },
    {
      "cell_type": "code",
      "metadata": {
        "id": "-_2CwV54640m"
      },
      "source": [
        "from numpy import array# for array initalisation\n",
        "from numpy import random# for randomly choosing numbers\n",
        "from numpy import dot#for doing dot product\n",
        "from random import choice"
      ],
      "execution_count": null,
      "outputs": []
    },
    {
      "cell_type": "markdown",
      "metadata": {
        "id": "pW4PfzZ87NJV"
      },
      "source": [
        "activation function\n"
      ]
    },
    {
      "cell_type": "code",
      "metadata": {
        "id": "kYVjWkCX7RBd"
      },
      "source": [
        "activationFn=lambda x: 0 if x < 0 else 1 #step activation function if ip is -ve op is 0"
      ],
      "execution_count": null,
      "outputs": []
    },
    {
      "cell_type": "markdown",
      "metadata": {
        "id": "eMp7azrA82je"
      },
      "source": [
        "Training Dataset"
      ]
    },
    {
      "cell_type": "code",
      "metadata": {
        "colab": {
          "base_uri": "https://localhost:8080/"
        },
        "id": "dIx1XeDP81eo",
        "outputId": "8d2cd9db-50d3-4392-aa77-b833ee948c09"
      },
      "source": [
        "dataset=[\n",
        "         (array([0,0,1]),0), #array([x,y,b],e) x,y=input, b=bias, e=expected output to validate\n",
        "         (array([0,1,1]),1),\n",
        "         (array([1,0,1]),1),\n",
        "         (array([1,1,1]),1)\n",
        "         ]                   # OR gate\n",
        "print(dataset) \n",
        "print(array([0,0,1]),0)"
      ],
      "execution_count": null,
      "outputs": [
        {
          "output_type": "stream",
          "name": "stdout",
          "text": [
            "[(array([0, 0, 1]), 0), (array([0, 1, 1]), 1), (array([1, 0, 1]), 1), (array([1, 1, 1]), 1)]\n",
            "[0 0 1] 0\n"
          ]
        }
      ]
    },
    {
      "cell_type": "markdown",
      "metadata": {
        "id": "rb_9reybAdmB"
      },
      "source": [
        "Initializing Random number of Weights "
      ]
    },
    {
      "cell_type": "code",
      "metadata": {
        "colab": {
          "base_uri": "https://localhost:8080/"
        },
        "id": "7fFpKta8ApB6",
        "outputId": "6a2c0f5e-6508-4d8c-ad8f-9a96556ef417"
      },
      "source": [
        "weights=random.rand(3)\n",
        "weights"
      ],
      "execution_count": null,
      "outputs": [
        {
          "output_type": "execute_result",
          "data": {
            "text/plain": [
              "array([0.79470905, 0.6405252 , 0.55121627])"
            ]
          },
          "metadata": {},
          "execution_count": 24
        }
      ]
    },
    {
      "cell_type": "markdown",
      "metadata": {
        "id": "24HiJhcvBE2n"
      },
      "source": [
        "Initializing Additonal Variables"
      ]
    },
    {
      "cell_type": "code",
      "metadata": {
        "id": "54J7y17qBKCQ"
      },
      "source": [
        "r=0.2 #learning rate\n",
        "n=100 # number of iterations"
      ],
      "execution_count": null,
      "outputs": []
    },
    {
      "cell_type": "markdown",
      "metadata": {
        "id": "XXB6DospBWV6"
      },
      "source": [
        "Training our MOdel"
      ]
    },
    {
      "cell_type": "code",
      "metadata": {
        "colab": {
          "base_uri": "https://localhost:8080/"
        },
        "id": "66ctULjgBZep",
        "outputId": "255093de-5b26-4ca7-a3c5-2867678880b7"
      },
      "source": [
        "for j in range(n):\n",
        "  x, expected=choice(dataset)#random input set, includes repeated numbers\n",
        "  print(x,expected)\n",
        "  result=dot(weights,x) #dot product of input and weight vectors\n",
        "  err = expected-activationFn(result)\n",
        "  weights += r * err * x #calculate the correction factor, added to weights to improve o/p in n\n",
        "  #if expected value is bigger, the weights should increased, and vice versa"
      ],
      "execution_count": null,
      "outputs": [
        {
          "output_type": "stream",
          "name": "stdout",
          "text": [
            "[0 0 1] 0\n",
            "[1 1 1] 1\n",
            "[1 0 1] 1\n",
            "[0 1 1] 1\n",
            "[1 1 1] 1\n",
            "[1 0 1] 1\n",
            "[1 1 1] 1\n",
            "[0 0 1] 0\n",
            "[1 0 1] 1\n",
            "[1 1 1] 1\n",
            "[0 1 1] 1\n",
            "[0 1 1] 1\n",
            "[0 1 1] 1\n",
            "[1 0 1] 1\n",
            "[1 1 1] 1\n",
            "[0 1 1] 1\n",
            "[1 0 1] 1\n",
            "[0 1 1] 1\n",
            "[0 0 1] 0\n",
            "[0 1 1] 1\n",
            "[1 0 1] 1\n",
            "[1 0 1] 1\n",
            "[0 1 1] 1\n",
            "[1 1 1] 1\n",
            "[1 0 1] 1\n",
            "[0 1 1] 1\n",
            "[1 0 1] 1\n",
            "[1 1 1] 1\n",
            "[1 0 1] 1\n",
            "[0 1 1] 1\n",
            "[0 0 1] 0\n",
            "[0 1 1] 1\n",
            "[1 1 1] 1\n",
            "[1 1 1] 1\n",
            "[1 0 1] 1\n",
            "[1 1 1] 1\n",
            "[0 0 1] 0\n",
            "[0 1 1] 1\n",
            "[0 1 1] 1\n",
            "[0 0 1] 0\n",
            "[0 1 1] 1\n",
            "[1 0 1] 1\n",
            "[1 0 1] 1\n",
            "[1 1 1] 1\n",
            "[1 0 1] 1\n",
            "[1 0 1] 1\n",
            "[0 1 1] 1\n",
            "[1 0 1] 1\n",
            "[0 1 1] 1\n",
            "[0 1 1] 1\n",
            "[0 0 1] 0\n",
            "[0 0 1] 0\n",
            "[1 0 1] 1\n",
            "[1 1 1] 1\n",
            "[0 1 1] 1\n",
            "[0 0 1] 0\n",
            "[1 0 1] 1\n",
            "[0 1 1] 1\n",
            "[1 0 1] 1\n",
            "[0 1 1] 1\n",
            "[1 0 1] 1\n",
            "[1 0 1] 1\n",
            "[0 0 1] 0\n",
            "[1 1 1] 1\n",
            "[1 0 1] 1\n",
            "[0 0 1] 0\n",
            "[1 1 1] 1\n",
            "[1 0 1] 1\n",
            "[0 1 1] 1\n",
            "[0 0 1] 0\n",
            "[1 1 1] 1\n",
            "[0 0 1] 0\n",
            "[0 1 1] 1\n",
            "[1 0 1] 1\n",
            "[0 1 1] 1\n",
            "[1 0 1] 1\n",
            "[0 1 1] 1\n",
            "[1 0 1] 1\n",
            "[1 1 1] 1\n",
            "[1 1 1] 1\n",
            "[0 1 1] 1\n",
            "[0 0 1] 0\n",
            "[1 1 1] 1\n",
            "[0 1 1] 1\n",
            "[1 0 1] 1\n",
            "[1 1 1] 1\n",
            "[1 0 1] 1\n",
            "[0 0 1] 0\n",
            "[0 0 1] 0\n",
            "[0 0 1] 0\n",
            "[1 1 1] 1\n",
            "[0 1 1] 1\n",
            "[0 0 1] 0\n",
            "[1 1 1] 1\n",
            "[0 1 1] 1\n",
            "[1 1 1] 1\n",
            "[1 0 1] 1\n",
            "[0 0 1] 0\n",
            "[1 0 1] 1\n",
            "[1 0 1] 1\n"
          ]
        }
      ]
    },
    {
      "cell_type": "markdown",
      "metadata": {
        "id": "CyWo73tPE4f8"
      },
      "source": [
        "Evaluating Model"
      ]
    },
    {
      "cell_type": "code",
      "metadata": {
        "colab": {
          "base_uri": "https://localhost:8080/"
        },
        "id": "MN0ZWv2kE8cv",
        "outputId": "c16db86f-fbc9-4723-9122-1408db36fc0f"
      },
      "source": [
        "for x, y in dataset:\n",
        "  result=dot(x, weights)\n",
        "  print(\"Input: {} ResultBeforeActivationFn: {} ResultAfteractivationFn:{}\".format(x[:2], round(result,3), activationFn(result)))"
      ],
      "execution_count": null,
      "outputs": [
        {
          "output_type": "stream",
          "name": "stdout",
          "text": [
            "Input: [0 0] ResultBeforeActivationFn: -0.049 ResultAfteractivationFn:0\n",
            "Input: [0 1] ResultBeforeActivationFn: 0.592 ResultAfteractivationFn:1\n",
            "Input: [1 0] ResultBeforeActivationFn: 0.746 ResultAfteractivationFn:1\n",
            "Input: [1 1] ResultBeforeActivationFn: 1.386 ResultAfteractivationFn:1\n"
          ]
        }
      ]
    }
  ]
}